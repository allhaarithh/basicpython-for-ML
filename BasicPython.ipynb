{
  "nbformat": 4,
  "nbformat_minor": 0,
  "metadata": {
    "colab": {
      "provenance": [],
      "authorship_tag": "ABX9TyNA1mJU5rAhwpwvLxxjFQq9",
      "include_colab_link": true
    },
    "kernelspec": {
      "name": "python3",
      "display_name": "Python 3"
    },
    "language_info": {
      "name": "python"
    }
  },
  "cells": [
    {
      "cell_type": "markdown",
      "metadata": {
        "id": "view-in-github",
        "colab_type": "text"
      },
      "source": [
        "<a href=\"https://colab.research.google.com/github/allhaarithh/basicpython-for-ML/blob/main/BasicPython.ipynb\" target=\"_parent\"><img src=\"https://colab.research.google.com/assets/colab-badge.svg\" alt=\"Open In Colab\"/></a>"
      ]
    },
    {
      "cell_type": "code",
      "source": [],
      "metadata": {
        "id": "2OyQFIlivlr0"
      },
      "execution_count": null,
      "outputs": []
    },
    {
      "cell_type": "markdown",
      "source": [
        "#Introduction to `Python`\n",
        "\n",
        "First Program : Display my Name and Hello"
      ],
      "metadata": {
        "id": "3LLluHYGvpm7"
      }
    },
    {
      "cell_type": "code",
      "source": [
        "print(\"Hello Alhaarith !!!\")"
      ],
      "metadata": {
        "colab": {
          "base_uri": "https://localhost:8080/"
        },
        "id": "sWrVdY1rwTuq",
        "outputId": "38040f0e-67d2-4737-b354-04b6a3d90874"
      },
      "execution_count": 6,
      "outputs": [
        {
          "output_type": "stream",
          "name": "stdout",
          "text": [
            "Hello Alhaarith !!!\n"
          ]
        }
      ]
    },
    {
      "cell_type": "markdown",
      "source": [
        ">Program to assign an integer and display it."
      ],
      "metadata": {
        "id": "WmpqK0DjxsWy"
      }
    },
    {
      "cell_type": "markdown",
      "source": [
        ">Program to find the sum of two variables"
      ],
      "metadata": {
        "id": "XvLHBaovyMPB"
      }
    },
    {
      "cell_type": "code",
      "source": [
        "a=9000\n",
        "b=190283\n",
        "c=a+b\n",
        "print(\"The sum of a and  b is\", c)\n"
      ],
      "metadata": {
        "colab": {
          "base_uri": "https://localhost:8080/"
        },
        "id": "lUwE06lvyEEx",
        "outputId": "51d7c48e-85be-453d-be8e-be7fa8c15fc8"
      },
      "execution_count": 14,
      "outputs": [
        {
          "output_type": "stream",
          "name": "stdout",
          "text": [
            "The sum of a and  b is 199283\n"
          ]
        }
      ]
    },
    {
      "cell_type": "code",
      "source": [
        "a=9010\n",
        "print(\"the Value of the variable a is:\",a)"
      ],
      "metadata": {
        "colab": {
          "base_uri": "https://localhost:8080/"
        },
        "id": "1EY2QSnyxICL",
        "outputId": "f11b4fcd-a063-41ea-d4f4-6812bcb503c0"
      },
      "execution_count": 11,
      "outputs": [
        {
          "output_type": "stream",
          "name": "stdout",
          "text": [
            "the Value of the variable a is: 9010\n"
          ]
        }
      ]
    },
    {
      "cell_type": "markdown",
      "source": [
        ">Read two numbers from the user and then find the sum."
      ],
      "metadata": {
        "id": "QsXqOn0evn4b"
      }
    },
    {
      "cell_type": "code",
      "source": [
        "a= eval(input(\"Enter value of a:\"))"
      ],
      "metadata": {
        "colab": {
          "base_uri": "https://localhost:8080/"
        },
        "id": "5Y5U8jS7y4WU",
        "outputId": "dd5ad4a4-fb4f-4d3f-a3fb-5d034220a8d7"
      },
      "execution_count": 29,
      "outputs": [
        {
          "name": "stdout",
          "output_type": "stream",
          "text": [
            "Enter value of a:566\n"
          ]
        }
      ]
    },
    {
      "cell_type": "code",
      "source": [
        "b=eval(input(\"Enter value of b:\"))"
      ],
      "metadata": {
        "colab": {
          "base_uri": "https://localhost:8080/"
        },
        "id": "dEsWaBz_zEl6",
        "outputId": "d7683a8a-6ad5-44bf-8078-460f179d0d3c"
      },
      "execution_count": 30,
      "outputs": [
        {
          "name": "stdout",
          "output_type": "stream",
          "text": [
            "Enter value of b:47\n"
          ]
        }
      ]
    },
    {
      "cell_type": "code",
      "source": [
        "c=a+b\n",
        "print(\"The value of a is\",a,\"and the value of b is\",b,\"and their sum is\",c)\n"
      ],
      "metadata": {
        "colab": {
          "base_uri": "https://localhost:8080/"
        },
        "id": "SwHgLLmpzJ8i",
        "outputId": "28b56c20-e6d3-4f71-ba73-3b87f5f812c0"
      },
      "execution_count": 31,
      "outputs": [
        {
          "output_type": "stream",
          "name": "stdout",
          "text": [
            "The value of a is 566 and the value of b is 47 and their sum is 613\n"
          ]
        }
      ]
    }
  ]
}